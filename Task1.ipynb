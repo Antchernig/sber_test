{
 "cells": [
  {
   "cell_type": "markdown",
   "id": "0fc52e57",
   "metadata": {},
   "source": [
    "# Задание 1"
   ]
  },
  {
   "cell_type": "code",
   "execution_count": null,
   "id": "ebab28ef",
   "metadata": {},
   "outputs": [],
   "source": [
    "# 1. Выберите заказчиков из Германии, Франции и Мадрида, выведите их название, страну и адрес.\n",
    "SELECT CustomerName, Address, Country \n",
    "FROM Customers\n",
    "WHERE Country IN ('Germany', 'France') OR City = 'Madrid';"
   ]
  },
  {
   "cell_type": "code",
   "execution_count": null,
   "id": "07fb2379",
   "metadata": {},
   "outputs": [],
   "source": [
    "# 2. Выберите топ 3 страны по количеству заказчиков, выведите их названия и количество записей.\n",
    "SELECT TOP 3 Country, Count(*) AS CustomerNumber\n",
    "FROM Customers\n",
    "GROUP BY Country\n",
    "ORDER BY Count(*) DESC;"
   ]
  },
  {
   "cell_type": "code",
   "execution_count": null,
   "id": "9a0dc03a",
   "metadata": {},
   "outputs": [],
   "source": [
    "# 3. Выберите перевозчика, который отправил 10-й по времени заказ, выведите его название, и дату отправления.\n",
    "SELECT ShipperName, OrderDate \n",
    "FROM Shippers AS S\n",
    "INNER JOIN Orders AS O ON S.ShipperID = O.ShipperID\n",
    "ORDER BY OrderDate\n",
    "LIMIT 9, 1;"
   ]
  },
  {
   "cell_type": "code",
   "execution_count": null,
   "id": "ac2c3fb5",
   "metadata": {},
   "outputs": [],
   "source": [
    "# 4. Выберите самый дорогой заказ, выведите список товаров с их ценами.\n",
    "SELECT ProductName, Price\n",
    "FROM OrderDetails AS OD\n",
    "INNER JOIN Products AS P ON OD.ProductID = P.ProductID\n",
    "WHERE OrderID = (SELECT OrderID\n",
    "\t\t\t\tFROM OrderDetails AS OD\n",
    "\t\t\t\tINNER JOIN Products AS P ON OD.ProductID = P.ProductID\n",
    "\t\t\t\tGROUP BY OrderID\n",
    "\t\t\t\tORDER BY SUM(Quantity*Price) DESC\n",
    "\t\t\t\tLIMIT 1);"
   ]
  },
  {
   "cell_type": "code",
   "execution_count": null,
   "id": "8c496764",
   "metadata": {},
   "outputs": [],
   "source": [
    "# 5. Какой товар больше всего заказывали по количеству единиц товара, \n",
    "# выведите его название и количество единиц в каждом из заказов.\n",
    "SELECT OrderID, ProductName, Quantity\n",
    "FROM OrderDetails AS OD\n",
    "INNER JOIN Products AS P ON OD.ProductID = P.ProductID\n",
    "WHERE OD.ProductID = (SELECT ProductID\n",
    "\t\t\t\t\tFROM OrderDetails\n",
    "\t\t\t\t\tGROUP BY ProductID\n",
    "\t\t\t\t\tORDER BY SUM(Quantity) DESC\n",
    "\t\t\t\t\tLIMIT 1);"
   ]
  },
  {
   "cell_type": "code",
   "execution_count": null,
   "id": "91231306",
   "metadata": {},
   "outputs": [],
   "source": [
    "# 6. Выведите топ 5 поставщиков по количеству заказов, выведите их названия, страну, контактное лицо и телефон.\n",
    "SELECT SupplierName, ContactName , Country, Phone\n",
    "FROM OrderDetails AS OD\n",
    "INNER JOIN Products AS P ON OD.ProductID = P.ProductID\n",
    "INNER JOIN Suppliers AS S ON P.SupplierID = S.SupplierID\n",
    "GROUP BY S.SupplierID\n",
    "ORDER BY SUM(Quantity) DESC\n",
    "LIMIT 5;"
   ]
  },
  {
   "cell_type": "code",
   "execution_count": null,
   "id": "f0affae9",
   "metadata": {},
   "outputs": [],
   "source": [
    "# 7. Какую категорию товаров заказывали больше всего по стоимости в Бразилии,\n",
    "# выведите страну, название категории и сумму.\n",
    "SELECT Country, CategoryName, SUM(Price*Quantity) AS TotalIncome\n",
    "FROM Categories AS Cat\n",
    "INNER JOIN Products AS Prod ON Cat.CategoryID = Prod.CategoryID\n",
    "INNER JOIN OrderDetails AS OD ON Prod.ProductID = OD.ProductID\n",
    "INNER JOIN Orders ON OD.OrderID = Orders.OrderID\n",
    "INNER JOIN Customers AS Cust ON Orders.CustomerID = Cust.CustomerID\n",
    "WHERE Country = 'Brazil'\n",
    "GROUP BY Cat.CategoryID\n",
    "ORDER BY SUM(Price*Quantity) DESC\n",
    "LIMIT 1;"
   ]
  },
  {
   "cell_type": "code",
   "execution_count": null,
   "id": "bf99e3b6",
   "metadata": {},
   "outputs": [],
   "source": [
    "# 8. Какая разница в стоимости между самым дорогим и самым дешевым заказом из США.\n",
    "SELECT\n",
    "\tMAX(Total) - Min(Total) AS Diff\n",
    "FROM (SELECT SUM(Quantity*Price) AS Total\n",
    "\tFROM OrderDetails AS OD\n",
    "\tINNER JOIN Products AS Prod ON OD.ProductID = Prod.ProductID\n",
    "\tINNER JOIN Orders ON OD.OrderID = Orders.OrderID\n",
    "\tINNER JOIN Customers ON Orders.CustomerID = Customers.CustomerID\n",
    "\tWHERE Country = 'USA'\n",
    "\tGROUP BY Orders.CustomerID\n",
    "\tORDER BY SUM(Quantity*Price) DESC);"
   ]
  },
  {
   "cell_type": "code",
   "execution_count": null,
   "id": "32b41180",
   "metadata": {},
   "outputs": [],
   "source": [
    "# 9. Выведите количество заказов у каждого их трех самых молодых сотрудников,\n",
    "# а также имя и фамилию во второй колонке.\n",
    "SELECT Count(*) AS TotalOrders, (Lastname || ' ' || Firstname) AS FullName\n",
    "FROM Orders AS O\n",
    "INNER JOIN Employees AS E ON O.EmployeeID = E.EmployeeID\n",
    "GROUP BY E.EmployeeID\n",
    "ORDER BY BirthDate DESC\n",
    "LIMIT 3;"
   ]
  },
  {
   "cell_type": "code",
   "execution_count": null,
   "id": "f3c51bcb",
   "metadata": {},
   "outputs": [],
   "source": [
    "# 10. Сколько банок крабового мяса всего было заказано.\n",
    "# Изучив таблицу Products я установил, что в 1 юните \"Boston Crab Meat\" находится 24 четырех-унцевые банки\n",
    "# Отсюда взялся числовой коэфициент 24 в запросе\n",
    "SELECT (SUM(Quantity) * 24) AS CrabMeatTins\n",
    "FROM OrderDetails AS OD\n",
    "INNER JOIN Products AS P ON OD.ProductID = P.ProductID\n",
    "GROUP BY OD.ProductID\n",
    "HAVING ProductName = 'Boston Crab Meat';"
   ]
  },
  {
   "cell_type": "code",
   "execution_count": null,
   "id": "93d06049",
   "metadata": {},
   "outputs": [],
   "source": []
  },
  {
   "cell_type": "code",
   "execution_count": null,
   "id": "7d3e83f2",
   "metadata": {},
   "outputs": [],
   "source": []
  },
  {
   "cell_type": "code",
   "execution_count": null,
   "id": "5c3434d7",
   "metadata": {},
   "outputs": [],
   "source": []
  }
 ],
 "metadata": {
  "kernelspec": {
   "display_name": "Python 3 (ipykernel)",
   "language": "python",
   "name": "python3"
  },
  "language_info": {
   "codemirror_mode": {
    "name": "ipython",
    "version": 3
   },
   "file_extension": ".py",
   "mimetype": "text/x-python",
   "name": "python",
   "nbconvert_exporter": "python",
   "pygments_lexer": "ipython3",
   "version": "3.10.6"
  }
 },
 "nbformat": 4,
 "nbformat_minor": 5
}
